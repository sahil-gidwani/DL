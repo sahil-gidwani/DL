{
  "cells": [
    {
      "cell_type": "code",
      "source": [
        "from keras.datasets import imdb\n",
        "from keras import models\n",
        "from keras import layers\n",
        "import numpy as np"
      ],
      "metadata": {
        "id": "7HWEGxH_mYTL"
      },
      "execution_count": 2,
      "outputs": []
    },
    {
      "cell_type": "code",
      "source": [
        "# Load the IMDB dataset\n",
        "(train_data, train_labels), (test_data, test_labels) = imdb.load_data(num_words=10000)"
      ],
      "metadata": {
        "id": "VSNPvRCRmZWv"
      },
      "execution_count": 3,
      "outputs": []
    },
    {
      "cell_type": "code",
      "source": [
        "# word_index is a dictionary mapping words to an integer index\n",
        "word_index = imdb.get_word_index()\n",
        "# We reverse it, mapping integer indices to words\n",
        "reverse_word_index = dict([(value, key) for (key, value) in word_index.items()])\n",
        "# We decode the review; note that our indices were offset by 3\n",
        "# because 0, 1 and 2 are reserved indices for \"padding\", \"start of sequence\", and \"unknown\".\n",
        "decoded_review = ' '.join([reverse_word_index.get(i - 3 , '.') for i in train_data[0]])\n",
        "\n",
        "decoded_review"
      ],
      "metadata": {
        "colab": {
          "base_uri": "https://localhost:8080/",
          "height": 139
        },
        "id": "p8fOkJKQQUXS",
        "outputId": "6d8fe410-dfe5-49aa-87c9-cc5335dec3d7"
      },
      "execution_count": 4,
      "outputs": [
        {
          "output_type": "execute_result",
          "data": {
            "text/plain": [
              "\". this film was just brilliant casting location scenery story direction everyone's really suited the part they played and you could just imagine being there robert . is an amazing actor and now the same being director . father came from the same scottish island as myself so i loved the fact there was a real connection with this film the witty remarks throughout the film were great it was just brilliant so much that i bought the film as soon as it was released for . and would recommend it to everyone to watch and the fly fishing was amazing really cried at the end it was so sad and you know what they say if you cry at a film it must have been good and this definitely was also . to the two little boy's that played the . of norman and paul they were just brilliant children are often left out of the . list i think because the stars that play them all grown up are such a big profile for the whole film but these children are amazing and should be praised for what they have done don't you think the whole story was so lovely because it was true and was someone's life after all that was shared with us all\""
            ],
            "application/vnd.google.colaboratory.intrinsic+json": {
              "type": "string"
            }
          },
          "metadata": {},
          "execution_count": 4
        }
      ]
    },
    {
      "cell_type": "code",
      "source": [
        "def vectorize_sequences(sequences, dimension=10000):\n",
        "    # Create an all-zero matrix of shape (len(sequences), dimension)\n",
        "    results = np.zeros((len(sequences), dimension))\n",
        "    for i, sequence in enumerate(sequences):\n",
        "        results[i, sequence] = 1.  # set specific indices of results[i] to 1s\n",
        "    return results\n",
        "\n",
        "# Our vectorized training data\n",
        "x_train = vectorize_sequences(train_data)\n",
        "# Our vectorized test data\n",
        "x_test = vectorize_sequences(test_data)\n",
        "\n",
        "# Our vectorized labels\n",
        "y_train = np.asarray(train_labels).astype('float32')\n",
        "y_test = np.asarray(test_labels).astype('float32')"
      ],
      "metadata": {
        "id": "kVv0kzOcQaex"
      },
      "execution_count": 5,
      "outputs": []
    },
    {
      "cell_type": "code",
      "source": [
        "# Define the model architecture\n",
        "model = models.Sequential()\n",
        "model.add(layers.Dense(16, activation='relu', input_shape=(10000,)))\n",
        "model.add(layers.Dense(16, activation='relu'))\n",
        "model.add(layers.Dense(1, activation='sigmoid'))\n",
        "\n",
        "# Compile the model\n",
        "model.compile(optimizer='rmsprop',\n",
        "              loss='binary_crossentropy',\n",
        "              metrics=['accuracy'])\n",
        "\n",
        "# Train the model with validation data\n",
        "history = model.fit(x_train, y_train,\n",
        "                    epochs=20,\n",
        "                    batch_size=512,\n",
        "                    validation_split=0.2)"
      ],
      "metadata": {
        "colab": {
          "base_uri": "https://localhost:8080/"
        },
        "id": "jmjER4QnQdVQ",
        "outputId": "e0ff2ccc-28f3-403a-db9e-f6b3b5a04c27"
      },
      "execution_count": 6,
      "outputs": [
        {
          "output_type": "stream",
          "name": "stdout",
          "text": [
            "Epoch 1/20\n",
            "40/40 [==============================] - 3s 50ms/step - loss: 0.5342 - accuracy: 0.7934 - val_loss: 0.4511 - val_accuracy: 0.7940\n",
            "Epoch 2/20\n",
            "40/40 [==============================] - 2s 44ms/step - loss: 0.3338 - accuracy: 0.8892 - val_loss: 0.3666 - val_accuracy: 0.8428\n",
            "Epoch 3/20\n",
            "40/40 [==============================] - 1s 28ms/step - loss: 0.2535 - accuracy: 0.9130 - val_loss: 0.3042 - val_accuracy: 0.8796\n",
            "Epoch 4/20\n",
            "40/40 [==============================] - 1s 28ms/step - loss: 0.2076 - accuracy: 0.9294 - val_loss: 0.2845 - val_accuracy: 0.8860\n",
            "Epoch 5/20\n",
            "40/40 [==============================] - 1s 27ms/step - loss: 0.1806 - accuracy: 0.9378 - val_loss: 0.3006 - val_accuracy: 0.8800\n",
            "Epoch 6/20\n",
            "40/40 [==============================] - 1s 28ms/step - loss: 0.1577 - accuracy: 0.9467 - val_loss: 0.3198 - val_accuracy: 0.8788\n",
            "Epoch 7/20\n",
            "40/40 [==============================] - 1s 29ms/step - loss: 0.1408 - accuracy: 0.9529 - val_loss: 0.2875 - val_accuracy: 0.8896\n",
            "Epoch 8/20\n",
            "40/40 [==============================] - 1s 29ms/step - loss: 0.1254 - accuracy: 0.9594 - val_loss: 0.3280 - val_accuracy: 0.8814\n",
            "Epoch 9/20\n",
            "40/40 [==============================] - 1s 28ms/step - loss: 0.1127 - accuracy: 0.9635 - val_loss: 0.3499 - val_accuracy: 0.8794\n",
            "Epoch 10/20\n",
            "40/40 [==============================] - 1s 29ms/step - loss: 0.1026 - accuracy: 0.9668 - val_loss: 0.3311 - val_accuracy: 0.8822\n",
            "Epoch 11/20\n",
            "40/40 [==============================] - 1s 34ms/step - loss: 0.0906 - accuracy: 0.9717 - val_loss: 0.3431 - val_accuracy: 0.8814\n",
            "Epoch 12/20\n",
            "40/40 [==============================] - 2s 41ms/step - loss: 0.0832 - accuracy: 0.9754 - val_loss: 0.3724 - val_accuracy: 0.8796\n",
            "Epoch 13/20\n",
            "40/40 [==============================] - 1s 35ms/step - loss: 0.0747 - accuracy: 0.9780 - val_loss: 0.3936 - val_accuracy: 0.8788\n",
            "Epoch 14/20\n",
            "40/40 [==============================] - 1s 28ms/step - loss: 0.0689 - accuracy: 0.9795 - val_loss: 0.3969 - val_accuracy: 0.8778\n",
            "Epoch 15/20\n",
            "40/40 [==============================] - 1s 28ms/step - loss: 0.0594 - accuracy: 0.9844 - val_loss: 0.4159 - val_accuracy: 0.8760\n",
            "Epoch 16/20\n",
            "40/40 [==============================] - 1s 29ms/step - loss: 0.0547 - accuracy: 0.9859 - val_loss: 0.4997 - val_accuracy: 0.8720\n",
            "Epoch 17/20\n",
            "40/40 [==============================] - 1s 28ms/step - loss: 0.0480 - accuracy: 0.9883 - val_loss: 0.4622 - val_accuracy: 0.8748\n",
            "Epoch 18/20\n",
            "40/40 [==============================] - 1s 28ms/step - loss: 0.0426 - accuracy: 0.9894 - val_loss: 0.4779 - val_accuracy: 0.8744\n",
            "Epoch 19/20\n",
            "40/40 [==============================] - 1s 28ms/step - loss: 0.0375 - accuracy: 0.9922 - val_loss: 0.5024 - val_accuracy: 0.8746\n",
            "Epoch 20/20\n",
            "40/40 [==============================] - 1s 28ms/step - loss: 0.0347 - accuracy: 0.9929 - val_loss: 0.5922 - val_accuracy: 0.8696\n"
          ]
        }
      ]
    },
    {
      "cell_type": "code",
      "source": [
        "# Evaluate the model on test data\n",
        "results = model.evaluate(x_test, y_test)\n",
        "\n",
        "# Print test loss and accuracy\n",
        "print(\"Test loss:\", results[0])\n",
        "print(\"Test accuracy:\", results[1])"
      ],
      "metadata": {
        "colab": {
          "base_uri": "https://localhost:8080/"
        },
        "id": "K2I0h2sgQfSa",
        "outputId": "a21cd83d-0c31-4797-f713-3b048f8e97d2"
      },
      "execution_count": 7,
      "outputs": [
        {
          "output_type": "stream",
          "name": "stdout",
          "text": [
            "782/782 [==============================] - 2s 3ms/step - loss: 0.6238 - accuracy: 0.8545\n",
            "Test loss: 0.6238165497779846\n",
            "Test accuracy: 0.8545200228691101\n"
          ]
        }
      ]
    }
  ],
  "metadata": {
    "kernelspec": {
      "display_name": "Python 3",
      "language": "python",
      "name": "python3"
    },
    "language_info": {
      "codemirror_mode": {
        "name": "ipython",
        "version": 3
      },
      "file_extension": ".py",
      "mimetype": "text/x-python",
      "name": "python",
      "nbconvert_exporter": "python",
      "pygments_lexer": "ipython3",
      "version": "3.6.1"
    },
    "colab": {
      "provenance": []
    }
  },
  "nbformat": 4,
  "nbformat_minor": 0
}
